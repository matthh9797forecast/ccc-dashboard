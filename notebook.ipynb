{
 "cells": [
  {
   "cell_type": "code",
   "execution_count": 2,
   "metadata": {},
   "outputs": [],
   "source": [
    "import pandas as pd\n",
    "import numpy as np"
   ]
  },
  {
   "cell_type": "code",
   "execution_count": 20,
   "metadata": {},
   "outputs": [],
   "source": [
    "\n",
    "# Read data ...\n",
    "costs_df_raw = pd.read_csv('../../repository/daily_usage_by_service.csv')\n"
   ]
  },
  {
   "cell_type": "markdown",
   "metadata": {},
   "source": [
    "## Data table"
   ]
  },
  {
   "cell_type": "code",
   "execution_count": 5,
   "metadata": {},
   "outputs": [],
   "source": [
    "def costs_per_month(column):\n",
    "  \"\"\"\n",
    "  Given a dataframe column create a pivoted table with the costs per month split by \n",
    "  the column input.\n",
    "  \"\"\"\n",
    "  # Parameters\n",
    "  index_cols = ['som']\n",
    "  value_cols = ['amount_usd']\n",
    "  index_cols.append(column)\n",
    "\n",
    "  # Add columns\n",
    "  costs_df = (\n",
    "      costs_df_raw\n",
    "      .pipe(lambda x: x.assign(date=pd.to_datetime(x['date'], format='%d/%m/%Y')))\n",
    "  )\n",
    "\n",
    "  costs_df['som'] = costs_df['date'].dt.to_period('M').dt.to_timestamp()\n",
    "  costs_df['date'] = costs_df['date'].dt.date\n",
    "\n",
    "  # This pivot funciton errors for some reason\n",
    "  pivot_long = pd.pivot_table(\n",
    "      data=costs_df,\n",
    "      index=index_cols,\n",
    "      values=value_cols,\n",
    "      aggfunc=np.sum\n",
    "  ).reset_index()\n",
    "\n",
    "  pivot_wide = pivot_long.pivot(index='som', columns=[column], values=[\n",
    "                                'amount_usd']).reset_index()\n",
    "\n",
    "  # Rename columns, streamlit doesn't currently support multi-level indexes\n",
    "  new_names = []\n",
    "  for i, colname in enumerate(pivot_wide.columns):\n",
    "    if colname[0] == '':\n",
    "      new_names.append(colname[1])\n",
    "    elif colname[1] == '':\n",
    "      new_names.append(colname[0])\n",
    "    else:\n",
    "      # new_names.append('_'.join(colname).strip())\n",
    "      new_names.append(colname[1])\n",
    "\n",
    "  pivot_wide.columns = new_names\n",
    "\n",
    "  # Format df\n",
    "  pivot_wide = (\n",
    "      pivot_wide\n",
    "      .pipe(lambda x: x.fillna(0))\n",
    "      .pipe(lambda x: x.sort_values(by='som', ascending=False))\n",
    "      .pipe(lambda x: x.assign(som=x.som.dt.strftime('%b-%Y')))\n",
    "  ).set_index('som')\n",
    "\n",
    "  pivot_wide = pivot_wide.style.format('${0:,.2f}')\n",
    "\n",
    "  return pivot_wide"
   ]
  },
  {
   "cell_type": "code",
   "execution_count": null,
   "metadata": {},
   "outputs": [],
   "source": [
    "costs_per_month('account_type')"
   ]
  },
  {
   "cell_type": "markdown",
   "metadata": {},
   "source": [
    "## Line chart"
   ]
  },
  {
   "cell_type": "code",
   "execution_count": 51,
   "metadata": {},
   "outputs": [
    {
     "data": {
      "text/html": [
       "<div>\n",
       "<style scoped>\n",
       "    .dataframe tbody tr th:only-of-type {\n",
       "        vertical-align: middle;\n",
       "    }\n",
       "\n",
       "    .dataframe tbody tr th {\n",
       "        vertical-align: top;\n",
       "    }\n",
       "\n",
       "    .dataframe thead th {\n",
       "        text-align: right;\n",
       "    }\n",
       "</style>\n",
       "<table border=\"1\" class=\"dataframe\">\n",
       "  <thead>\n",
       "    <tr style=\"text-align: right;\">\n",
       "      <th></th>\n",
       "      <th>AWS</th>\n",
       "      <th>Azure</th>\n",
       "      <th>GCP</th>\n",
       "    </tr>\n",
       "    <tr>\n",
       "      <th>som</th>\n",
       "      <th></th>\n",
       "      <th></th>\n",
       "      <th></th>\n",
       "    </tr>\n",
       "  </thead>\n",
       "  <tbody>\n",
       "    <tr>\n",
       "      <th>Jan-2022</th>\n",
       "      <td>253.18</td>\n",
       "      <td>33.96</td>\n",
       "      <td>0.57</td>\n",
       "    </tr>\n",
       "    <tr>\n",
       "      <th>Dec-2021</th>\n",
       "      <td>375.43</td>\n",
       "      <td>46.33</td>\n",
       "      <td>0.32</td>\n",
       "    </tr>\n",
       "    <tr>\n",
       "      <th>Nov-2021</th>\n",
       "      <td>360.47</td>\n",
       "      <td>108.48</td>\n",
       "      <td>0.00</td>\n",
       "    </tr>\n",
       "    <tr>\n",
       "      <th>Oct-2021</th>\n",
       "      <td>458.19</td>\n",
       "      <td>0.00</td>\n",
       "      <td>0.00</td>\n",
       "    </tr>\n",
       "    <tr>\n",
       "      <th>Sep-2021</th>\n",
       "      <td>362.24</td>\n",
       "      <td>0.00</td>\n",
       "      <td>0.00</td>\n",
       "    </tr>\n",
       "    <tr>\n",
       "      <th>Aug-2021</th>\n",
       "      <td>264.42</td>\n",
       "      <td>0.00</td>\n",
       "      <td>0.00</td>\n",
       "    </tr>\n",
       "    <tr>\n",
       "      <th>Jul-2021</th>\n",
       "      <td>71.52</td>\n",
       "      <td>0.00</td>\n",
       "      <td>0.00</td>\n",
       "    </tr>\n",
       "  </tbody>\n",
       "</table>\n",
       "</div>"
      ],
      "text/plain": [
       "             AWS   Azure   GCP\n",
       "som                           \n",
       "Jan-2022  253.18   33.96  0.57\n",
       "Dec-2021  375.43   46.33  0.32\n",
       "Nov-2021  360.47  108.48  0.00\n",
       "Oct-2021  458.19    0.00  0.00\n",
       "Sep-2021  362.24    0.00  0.00\n",
       "Aug-2021  264.42    0.00  0.00\n",
       "Jul-2021   71.52    0.00  0.00"
      ]
     },
     "execution_count": 51,
     "metadata": {},
     "output_type": "execute_result"
    }
   ],
   "source": []
  }
 ],
 "metadata": {
  "interpreter": {
   "hash": "b84cb44e850f44291ba26ddac5907ee4e99d03f225ff39971763a85e172c0d9d"
  },
  "kernelspec": {
   "display_name": "Python 3.9.7 64-bit ('cloud_cost_control': conda)",
   "language": "python",
   "name": "python3"
  },
  "language_info": {
   "codemirror_mode": {
    "name": "ipython",
    "version": 3
   },
   "file_extension": ".py",
   "mimetype": "text/x-python",
   "name": "python",
   "nbconvert_exporter": "python",
   "pygments_lexer": "ipython3",
   "version": "3.9.7"
  },
  "orig_nbformat": 4
 },
 "nbformat": 4,
 "nbformat_minor": 2
}
